{
 "cells": [
  {
   "cell_type": "markdown",
   "id": "18f32635",
   "metadata": {},
   "source": [
    "### Import libraries"
   ]
  },
  {
   "cell_type": "code",
   "execution_count": 1,
   "id": "3959841e",
   "metadata": {},
   "outputs": [],
   "source": [
    "import numpy as np\n",
    "import pandas as pd\n",
    "import matplotlib.pyplot as plt\n",
    "import seaborn as sns\n",
    "%matplotlib inline\n",
    "import findspark\n",
    "findspark.init()\n",
    "import pyspark\n",
    "from pyspark.sql import SparkSession\n",
    "from pyspark.sql import functions as F\n"
   ]
  },
  {
   "cell_type": "code",
   "execution_count": 2,
   "id": "c8b35967",
   "metadata": {},
   "outputs": [
    {
     "name": "stdout",
     "output_type": "stream",
     "text": [
      "Spark Version: 3.5.1\n"
     ]
    }
   ],
   "source": [
    "spark = SparkSession.builder.appName('cluster').getOrCreate() \n",
    "print('Spark Version: {}'.format(spark.version))"
   ]
  },
  {
   "cell_type": "markdown",
   "id": "96a41fed",
   "metadata": {},
   "source": [
    "Load the data into a DataFrame"
   ]
  },
  {
   "cell_type": "code",
   "execution_count": 3,
   "id": "483170bc",
   "metadata": {},
   "outputs": [],
   "source": [
    "df = spark.read.csv(\"C:/Users/Admin/Documents/Emerald/Big Data/Project/Online Retail.csv\",header=True,inferSchema=True) \n",
    "  \n"
   ]
  },
  {
   "cell_type": "code",
   "execution_count": 4,
   "id": "f4c621b9",
   "metadata": {},
   "outputs": [
    {
     "name": "stdout",
     "output_type": "stream",
     "text": [
      "+---------+---------+--------------------+--------+--------------+---------+----------+--------------+\n",
      "|InvoiceNo|StockCode|         Description|Quantity|   InvoiceDate|UnitPrice|CustomerID|       Country|\n",
      "+---------+---------+--------------------+--------+--------------+---------+----------+--------------+\n",
      "|   536365|   85123A|WHITE HANGING HEA...|       6|12/1/2010 8:26|     2.55|     17850|United Kingdom|\n",
      "|   536365|    71053| WHITE METAL LANTERN|       6|12/1/2010 8:26|     3.39|     17850|United Kingdom|\n",
      "|   536365|   84406B|CREAM CUPID HEART...|       8|12/1/2010 8:26|     2.75|     17850|United Kingdom|\n",
      "|   536365|   84029G|KNITTED UNION FLA...|       6|12/1/2010 8:26|     3.39|     17850|United Kingdom|\n",
      "|   536365|   84029E|RED WOOLLY HOTTIE...|       6|12/1/2010 8:26|     3.39|     17850|United Kingdom|\n",
      "+---------+---------+--------------------+--------+--------------+---------+----------+--------------+\n",
      "only showing top 5 rows\n",
      "\n"
     ]
    }
   ],
   "source": [
    "df.show(5)"
   ]
  },
  {
   "cell_type": "code",
   "execution_count": 5,
   "id": "50422833",
   "metadata": {},
   "outputs": [
    {
     "name": "stdout",
     "output_type": "stream",
     "text": [
      "Number of rows and columns in dataframe: (541909, 8)\n"
     ]
    }
   ],
   "source": [
    "num_rows = df.count()\n",
    "num_cols = len(df.columns)\n",
    "\n",
    "print(f'Number of rows and columns in dataframe: ({num_rows}, {num_cols})')"
   ]
  },
  {
   "cell_type": "raw",
   "id": "562579de",
   "metadata": {},
   "source": [
    "The dataframe consists of 8 variables:\n",
    "\n",
    "invoiceno: The unique identifier of each customer invoice.\n",
    "stockcode: The unique identifier of each item in stock.\n",
    "description: The item purchased by the customer.\n",
    "quantity: The number of each item purchased by a customer in a single invoice.\n",
    "invoicedate: The purchase date.\n",
    "unitprice: Price of one unit of each item.\n",
    "customerid: Unique identifier assigned to each user.\n",
    "country: The country from where the purchase was made"
   ]
  },
  {
   "cell_type": "markdown",
   "id": "665b9624",
   "metadata": {},
   "source": [
    "### Data cleaning and manipulation"
   ]
  },
  {
   "cell_type": "code",
   "execution_count": 6,
   "id": "672d2d49",
   "metadata": {},
   "outputs": [],
   "source": [
    "# This function written is to counts the number of null values in each column of the DataFrame.\n",
    "def nullcount(df):\n",
    "    return {col: df.filter(df[col].isNull()).count() for col in df.columns}"
   ]
  },
  {
   "cell_type": "code",
   "execution_count": 7,
   "id": "f012e1ed",
   "metadata": {},
   "outputs": [
    {
     "data": {
      "text/plain": [
       "{'InvoiceNo': 0,\n",
       " 'StockCode': 0,\n",
       " 'Description': 1454,\n",
       " 'Quantity': 0,\n",
       " 'InvoiceDate': 0,\n",
       " 'UnitPrice': 0,\n",
       " 'CustomerID': 135080,\n",
       " 'Country': 0}"
      ]
     },
     "execution_count": 7,
     "metadata": {},
     "output_type": "execute_result"
    }
   ],
   "source": [
    "nullcount(df)"
   ]
  },
  {
   "cell_type": "markdown",
   "id": "20065946",
   "metadata": {},
   "source": [
    "There are lot of missing values in Customer ID column, so we can drop the null value from the dataset, why are we dropping this column? the missing customer ID is a unique number of each customer that carry out a transaction and since this is missing we do not know which of the customer it is and it can not be calculated either."
   ]
  },
  {
   "cell_type": "code",
   "execution_count": 8,
   "id": "566d40ee",
   "metadata": {},
   "outputs": [],
   "source": [
    "# Filter out null customer ids\n",
    "df_new = df.filter(F.col(\"customerid\").isNotNull())"
   ]
  },
  {
   "cell_type": "code",
   "execution_count": 9,
   "id": "152819e9",
   "metadata": {},
   "outputs": [
    {
     "data": {
      "text/plain": [
       "{'InvoiceNo': 0,\n",
       " 'StockCode': 0,\n",
       " 'Description': 0,\n",
       " 'Quantity': 0,\n",
       " 'InvoiceDate': 0,\n",
       " 'UnitPrice': 0,\n",
       " 'CustomerID': 0,\n",
       " 'Country': 0}"
      ]
     },
     "execution_count": 9,
     "metadata": {},
     "output_type": "execute_result"
    }
   ],
   "source": [
    "# After the drop the null values\n",
    "nullcount(df_new)"
   ]
  },
  {
   "cell_type": "code",
   "execution_count": 10,
   "id": "d70806be",
   "metadata": {},
   "outputs": [],
   "source": [
    "#df_new.toPandas().describe()"
   ]
  },
  {
   "cell_type": "markdown",
   "id": "162d78fc",
   "metadata": {},
   "source": [
    "###### How many unique customers are present in the dataframe?"
   ]
  },
  {
   "cell_type": "code",
   "execution_count": 11,
   "id": "4b71afc4",
   "metadata": {},
   "outputs": [
    {
     "data": {
      "text/plain": [
       "4372"
      ]
     },
     "execution_count": 11,
     "metadata": {},
     "output_type": "execute_result"
    }
   ],
   "source": [
    "df_new.select('customerid').distinct().count()"
   ]
  },
  {
   "cell_type": "markdown",
   "id": "aade6b8e",
   "metadata": {},
   "source": [
    "###### What country do top 10 purchases come from?"
   ]
  },
  {
   "cell_type": "code",
   "execution_count": 12,
   "id": "7613d507",
   "metadata": {},
   "outputs": [],
   "source": [
    "from pyspark.sql.functions import *\n",
    "from pyspark.sql.types import *\n",
    "\n",
    "\n",
    "# Code Explanation\n",
    "# - The code uses the groupBy() method to group the data in the DataFrame df by the Country column.\n",
    "# - The agg() method is then used to apply an aggregation function to each group.\n",
    "# - In this case, the countDistinct() function is used to count the number of distinct CustomerID values in each group.\n",
    "# - The alias() method is used to rename the resulting column to country_count.\n",
    "# - Finally, the show() method is used to display the resulting DataFrame in a tabular format.\n",
    "# - This will show the number of distinct customers for each country in the Country column of the original DataFrame."
   ]
  },
  {
   "cell_type": "code",
   "execution_count": 13,
   "id": "6e59a00f",
   "metadata": {},
   "outputs": [
    {
     "name": "stdout",
     "output_type": "stream",
     "text": [
      "+------------------+-------------+\n",
      "|           country|country_count|\n",
      "+------------------+-------------+\n",
      "|            Sweden|            8|\n",
      "|         Singapore|            1|\n",
      "|           Germany|           95|\n",
      "|               RSA|            1|\n",
      "|            France|           87|\n",
      "|            Greece|            4|\n",
      "|European Community|            1|\n",
      "|           Belgium|           25|\n",
      "|           Finland|           12|\n",
      "|             Malta|            2|\n",
      "+------------------+-------------+\n",
      "only showing top 10 rows\n",
      "\n"
     ]
    }
   ],
   "source": [
    "df_new.groupBy('country').agg(countDistinct('customerid').alias('country_count')).show(10)"
   ]
  },
  {
   "cell_type": "markdown",
   "id": "a8e83f06",
   "metadata": {},
   "source": [
    "Notice that the data in the table above isn’t presented in the order of purchases. To sort this table, we can include the orderBy() clause"
   ]
  },
  {
   "cell_type": "code",
   "execution_count": 14,
   "id": "c51d032d",
   "metadata": {},
   "outputs": [
    {
     "name": "stdout",
     "output_type": "stream",
     "text": [
      "+--------------+-------------+\n",
      "|       country|country_count|\n",
      "+--------------+-------------+\n",
      "|United Kingdom|         3950|\n",
      "|       Germany|           95|\n",
      "|        France|           87|\n",
      "|         Spain|           31|\n",
      "|       Belgium|           25|\n",
      "|   Switzerland|           21|\n",
      "|      Portugal|           19|\n",
      "|         Italy|           15|\n",
      "|       Finland|           12|\n",
      "|       Austria|           11|\n",
      "+--------------+-------------+\n",
      "only showing top 10 rows\n",
      "\n"
     ]
    }
   ],
   "source": [
    "df_new.groupBy('country').agg(countDistinct('customerid').alias('country_count')).orderBy(desc('country_count')).show(10)"
   ]
  },
  {
   "cell_type": "markdown",
   "id": "22f1071d",
   "metadata": {},
   "source": [
    "Most purchases on the platform were made from the United Kingdom."
   ]
  },
  {
   "cell_type": "markdown",
   "id": "fbfc1513",
   "metadata": {},
   "source": [
    "###### When was the most recent purchase made by a customer on the platform?"
   ]
  },
  {
   "cell_type": "markdown",
   "id": "d7b9ea4c",
   "metadata": {},
   "source": [
    "To find when the latest purchase was made on the platform, we need to convert the “InvoiceDate” column into a timestamp format and use the max() function in Pyspark:"
   ]
  },
  {
   "cell_type": "code",
   "execution_count": 15,
   "id": "6718ea15",
   "metadata": {},
   "outputs": [
    {
     "name": "stdout",
     "output_type": "stream",
     "text": [
      "+-------------------+\n",
      "|          max(date)|\n",
      "+-------------------+\n",
      "|2011-01-31 19:55:00|\n",
      "+-------------------+\n",
      "\n"
     ]
    }
   ],
   "source": [
    "# latest purchase was made on the platform\n",
    "spark.sql(\"set spark.sql.legacy.timeParserPolicy=LEGACY\")\n",
    "df_new = df_new.withColumn('date', to_timestamp(\"invoicedate\", \"mm/dd/yy HH:mm\"))\n",
    "df_new.select(max(\"date\")).alias(\"LatestPurchase\").show()"
   ]
  },
  {
   "cell_type": "markdown",
   "id": "d0b4c03e",
   "metadata": {},
   "source": [
    "###### When was the earliest purchase made by a customer on the platform?"
   ]
  },
  {
   "cell_type": "code",
   "execution_count": 16,
   "id": "c57d11a5",
   "metadata": {},
   "outputs": [
    {
     "name": "stdout",
     "output_type": "stream",
     "text": [
      "+-------------------+\n",
      "|          min(date)|\n",
      "+-------------------+\n",
      "|2010-01-01 08:26:00|\n",
      "+-------------------+\n",
      "\n"
     ]
    }
   ],
   "source": [
    "df_new.select(min(\"date\")).alias(\"OldestPurchase\").show()"
   ]
  },
  {
   "cell_type": "markdown",
   "id": "15abb3a1",
   "metadata": {},
   "source": [
    "Our min and max dates are within limits"
   ]
  },
  {
   "cell_type": "markdown",
   "id": "1b880fca",
   "metadata": {},
   "source": [
    "### Feature Engineering"
   ]
  },
  {
   "cell_type": "markdown",
   "id": "09e0eea8",
   "metadata": {},
   "source": [
    "Now that we have analyzed the dataset and have a better understanding of each data point, we need to prepare the data to feed into the machine learning algorithm.\n",
    "\n",
    "Let’s take a look at the head of the dataframe once again to understand how the pre-processing will be done"
   ]
  },
  {
   "cell_type": "code",
   "execution_count": 17,
   "id": "68eb26fa",
   "metadata": {},
   "outputs": [
    {
     "name": "stdout",
     "output_type": "stream",
     "text": [
      "+---------+---------+--------------------+--------+--------------+---------+----------+--------------+-------------------+\n",
      "|InvoiceNo|StockCode|         Description|Quantity|   InvoiceDate|UnitPrice|CustomerID|       Country|               date|\n",
      "+---------+---------+--------------------+--------+--------------+---------+----------+--------------+-------------------+\n",
      "|   536365|   85123A|WHITE HANGING HEA...|       6|12/1/2010 8:26|     2.55|     17850|United Kingdom|2010-01-01 08:26:00|\n",
      "|   536365|    71053| WHITE METAL LANTERN|       6|12/1/2010 8:26|     3.39|     17850|United Kingdom|2010-01-01 08:26:00|\n",
      "|   536365|   84406B|CREAM CUPID HEART...|       8|12/1/2010 8:26|     2.75|     17850|United Kingdom|2010-01-01 08:26:00|\n",
      "|   536365|   84029G|KNITTED UNION FLA...|       6|12/1/2010 8:26|     3.39|     17850|United Kingdom|2010-01-01 08:26:00|\n",
      "|   536365|   84029E|RED WOOLLY HOTTIE...|       6|12/1/2010 8:26|     3.39|     17850|United Kingdom|2010-01-01 08:26:00|\n",
      "+---------+---------+--------------------+--------+--------------+---------+----------+--------------+-------------------+\n",
      "only showing top 5 rows\n",
      "\n"
     ]
    }
   ],
   "source": [
    "df_new.show(5)"
   ]
  },
  {
   "cell_type": "markdown",
   "id": "53973068",
   "metadata": {},
   "source": [
    "Based on our dataset, our goal is to establish distinct customer segments that reflect individual purchasing patterns.\n",
    "\n",
    "The current format of the variables in our dataset presents challenges for direct integration into our customer segmentation model. These individual features, as they stand, provide limited insight into customer purchasing behavior.\n",
    "\n",
    "To address this, we'll leverage the existing variables to create three new, more informative features: recency, frequency, and monetary value (RFM). "
   ]
  },
  {
   "cell_type": "markdown",
   "id": "c8127ce7",
   "metadata": {},
   "source": [
    "RFM- is commonly used in marketing to evaluate a client’s value based on their:"
   ]
  },
  {
   "cell_type": "markdown",
   "id": "dde5aa61",
   "metadata": {},
   "source": [
    "Recency: How recently has each customer made a purchase?\n",
    "\n",
    "Frequency: How often have they bought something?\n",
    "\n",
    "Monetary Value: How much money do they spend on average when making purchases?\n",
    "    \n",
    "We will now preprocess the dataframe to create the above variables."
   ]
  },
  {
   "cell_type": "markdown",
   "id": "a4a69143",
   "metadata": {},
   "source": [
    "#### Recency"
   ]
  },
  {
   "cell_type": "markdown",
   "id": "65601c90",
   "metadata": {},
   "source": [
    "In this step, we focus on understanding how recently a customer has made a purchase. This is a crucial aspect of customer segmentation as it helps in identifying the engagement level of customers. "
   ]
  },
  {
   "cell_type": "markdown",
   "id": "da35a42c",
   "metadata": {},
   "source": [
    "This feature represents the number of days that have passed since the customer's last purchase. A lower value indicates that the customer has purchased recently, implying a higher engagement level with the business, whereas a higher value may indicate a lapse or decreased engagement. By understanding the recency of purchases, businesses can tailor their marketing strategies to re-engage customers who have not made purchases in a while, potentially increasing customer retention and fostering loyalty."
   ]
  },
  {
   "cell_type": "markdown",
   "id": "d3cb1d72",
   "metadata": {},
   "source": [
    "i) Assign a recency score to each customer "
   ]
  },
  {
   "cell_type": "code",
   "execution_count": 18,
   "id": "383dc912",
   "metadata": {},
   "outputs": [
    {
     "name": "stdout",
     "output_type": "stream",
     "text": [
      "+---------+---------+--------------------+--------+--------------+---------+----------+--------------+-------------------+-------------------+\n",
      "|InvoiceNo|StockCode|         Description|Quantity|   InvoiceDate|UnitPrice|CustomerID|       Country|               date|          from_date|\n",
      "+---------+---------+--------------------+--------+--------------+---------+----------+--------------+-------------------+-------------------+\n",
      "|   536365|   85123A|WHITE HANGING HEA...|       6|12/1/2010 8:26|     2.55|     17850|United Kingdom|2010-01-01 08:26:00|2010-01-01 08:26:00|\n",
      "|   536365|    71053| WHITE METAL LANTERN|       6|12/1/2010 8:26|     3.39|     17850|United Kingdom|2010-01-01 08:26:00|2010-01-01 08:26:00|\n",
      "|   536365|   84406B|CREAM CUPID HEART...|       8|12/1/2010 8:26|     2.75|     17850|United Kingdom|2010-01-01 08:26:00|2010-01-01 08:26:00|\n",
      "|   536365|   84029G|KNITTED UNION FLA...|       6|12/1/2010 8:26|     3.39|     17850|United Kingdom|2010-01-01 08:26:00|2010-01-01 08:26:00|\n",
      "|   536365|   84029E|RED WOOLLY HOTTIE...|       6|12/1/2010 8:26|     3.39|     17850|United Kingdom|2010-01-01 08:26:00|2010-01-01 08:26:00|\n",
      "+---------+---------+--------------------+--------+--------------+---------+----------+--------------+-------------------+-------------------+\n",
      "only showing top 5 rows\n",
      "\n"
     ]
    }
   ],
   "source": [
    "df_new = df_new.withColumn(\"from_date\", lit(\"1/1/10 08:26\"))\n",
    "df_new = df_new.withColumn(\"from_date\", to_timestamp(\"from_date\", 'dd/MM/yy HH:mm'))\n",
    "\n",
    "df_new.show(5)"
   ]
  },
  {
   "cell_type": "markdown",
   "id": "df4d7acd",
   "metadata": {},
   "source": [
    "ii) Select the most recent purchase\n",
    "\n",
    "One customer can make multiple purchases at different times. We need to select only the last time they were seen buying a product, as this is indicative of when the most recent purchase was made:"
   ]
  },
  {
   "cell_type": "code",
   "execution_count": 19,
   "id": "3153357f",
   "metadata": {},
   "outputs": [
    {
     "name": "stdout",
     "output_type": "stream",
     "text": [
      "+---------+---------+--------------------+--------+--------------+---------+----------+--------------+-------------------+-------------------+-------+\n",
      "|InvoiceNo|StockCode|         Description|Quantity|   InvoiceDate|UnitPrice|CustomerID|       Country|               date|          from_date|recency|\n",
      "+---------+---------+--------------------+--------+--------------+---------+----------+--------------+-------------------+-------------------+-------+\n",
      "|   536365|   85123A|WHITE HANGING HEA...|       6|12/1/2010 8:26|     2.55|     17850|United Kingdom|2010-01-01 08:26:00|2010-01-01 08:26:00|      0|\n",
      "|   536365|    71053| WHITE METAL LANTERN|       6|12/1/2010 8:26|     3.39|     17850|United Kingdom|2010-01-01 08:26:00|2010-01-01 08:26:00|      0|\n",
      "|   536365|   84406B|CREAM CUPID HEART...|       8|12/1/2010 8:26|     2.75|     17850|United Kingdom|2010-01-01 08:26:00|2010-01-01 08:26:00|      0|\n",
      "|   536365|   84029G|KNITTED UNION FLA...|       6|12/1/2010 8:26|     3.39|     17850|United Kingdom|2010-01-01 08:26:00|2010-01-01 08:26:00|      0|\n",
      "|   536365|   84029E|RED WOOLLY HOTTIE...|       6|12/1/2010 8:26|     3.39|     17850|United Kingdom|2010-01-01 08:26:00|2010-01-01 08:26:00|      0|\n",
      "+---------+---------+--------------------+--------+--------------+---------+----------+--------------+-------------------+-------------------+-------+\n",
      "only showing top 5 rows\n",
      "\n"
     ]
    }
   ],
   "source": [
    "df_new2 = df_new.withColumn(\"from_date\", to_timestamp(col('from_date'))).withColumn('recency', col(\"date\").cast('long') - col('from_date').cast('long'))\n",
    "df_new2.show(5)"
   ]
  },
  {
   "cell_type": "code",
   "execution_count": 20,
   "id": "71cbe4e2",
   "metadata": {},
   "outputs": [
    {
     "name": "stdout",
     "output_type": "stream",
     "text": [
      "root\n",
      " |-- InvoiceNo: string (nullable = true)\n",
      " |-- StockCode: string (nullable = true)\n",
      " |-- Description: string (nullable = true)\n",
      " |-- Quantity: integer (nullable = true)\n",
      " |-- InvoiceDate: string (nullable = true)\n",
      " |-- UnitPrice: double (nullable = true)\n",
      " |-- CustomerID: integer (nullable = true)\n",
      " |-- Country: string (nullable = true)\n",
      " |-- date: timestamp (nullable = true)\n",
      " |-- from_date: timestamp (nullable = true)\n",
      " |-- recency: long (nullable = true)\n",
      "\n"
     ]
    }
   ],
   "source": [
    "df_new2.printSchema()"
   ]
  },
  {
   "cell_type": "markdown",
   "id": "633356d6",
   "metadata": {},
   "source": [
    "#### Frequency"
   ]
  },
  {
   "cell_type": "markdown",
   "id": "f174441f",
   "metadata": {},
   "source": [
    "Let’s now calculate the value of frequency - how often a customer bought something on the platform. To do this, we just need to group by each customer ID and count the number of items they purchased"
   ]
  },
  {
   "cell_type": "code",
   "execution_count": 21,
   "id": "b630d581",
   "metadata": {},
   "outputs": [
    {
     "name": "stdout",
     "output_type": "stream",
     "text": [
      "+----------+---------+\n",
      "|customerid|frequency|\n",
      "+----------+---------+\n",
      "|     17420|       30|\n",
      "|     16861|        8|\n",
      "|     16503|       86|\n",
      "|     15727|      302|\n",
      "|     17389|      224|\n",
      "+----------+---------+\n",
      "only showing top 5 rows\n",
      "\n"
     ]
    }
   ],
   "source": [
    "df_freq = df_new2.groupBy('customerid').agg(count('invoicedate').alias('frequency'))\n",
    "df_freq.show(5)"
   ]
  },
  {
   "cell_type": "markdown",
   "id": "01b56170",
   "metadata": {},
   "source": [
    "This new dataframe only has two columns, and we need to join it with the previous one:"
   ]
  },
  {
   "cell_type": "code",
   "execution_count": 22,
   "id": "225ad084",
   "metadata": {},
   "outputs": [],
   "source": [
    "# An inner join returns only the rows that have matching values in both dataframes on the specified column.\n",
    "df_freq = df_new2.join(df_freq,on='customerid',how='inner')"
   ]
  },
  {
   "cell_type": "code",
   "execution_count": 23,
   "id": "97c43d46",
   "metadata": {},
   "outputs": [
    {
     "name": "stdout",
     "output_type": "stream",
     "text": [
      "root\n",
      " |-- CustomerID: integer (nullable = true)\n",
      " |-- InvoiceNo: string (nullable = true)\n",
      " |-- StockCode: string (nullable = true)\n",
      " |-- Description: string (nullable = true)\n",
      " |-- Quantity: integer (nullable = true)\n",
      " |-- InvoiceDate: string (nullable = true)\n",
      " |-- UnitPrice: double (nullable = true)\n",
      " |-- Country: string (nullable = true)\n",
      " |-- date: timestamp (nullable = true)\n",
      " |-- from_date: timestamp (nullable = true)\n",
      " |-- recency: long (nullable = true)\n",
      " |-- frequency: long (nullable = false)\n",
      "\n"
     ]
    }
   ],
   "source": [
    "df_freq.printSchema()"
   ]
  },
  {
   "cell_type": "markdown",
   "id": "d86fd2de",
   "metadata": {},
   "source": [
    "#### Monetary"
   ]
  },
  {
   "cell_type": "markdown",
   "id": "b59577ef",
   "metadata": {},
   "source": [
    "Finally, let’s calculate monetary value. There are two steps to achieving this:\n",
    "\n",
    "*  Calculate monetary value - the total amount spent by each customer in the dataframe\n",
    "*  step 1: Find the total amount spent in each purchase\n",
    "*  Each customerID comes with variables called “Quantity” and “UnitPrice” for a single purchase\n",
    "*  Step 2: Find the total amount spent by each customer\n",
    "*  Group by the CustomerID column and sum the total amount spent"
   ]
  },
  {
   "cell_type": "code",
   "execution_count": 24,
   "id": "4f9c1016",
   "metadata": {},
   "outputs": [
    {
     "name": "stdout",
     "output_type": "stream",
     "text": [
      "+----------+---------+---------+--------------------+--------+--------------+---------+--------------+-------------------+-------------------+-------+---------+------------------+\n",
      "|CustomerID|InvoiceNo|StockCode|         Description|Quantity|   InvoiceDate|UnitPrice|       Country|               date|          from_date|recency|frequency|       TotalAmount|\n",
      "+----------+---------+---------+--------------------+--------+--------------+---------+--------------+-------------------+-------------------+-------+---------+------------------+\n",
      "|     17850|   536365|   85123A|WHITE HANGING HEA...|       6|12/1/2010 8:26|     2.55|United Kingdom|2010-01-01 08:26:00|2010-01-01 08:26:00|      0|      312|15.299999999999999|\n",
      "|     17850|   536365|    71053| WHITE METAL LANTERN|       6|12/1/2010 8:26|     3.39|United Kingdom|2010-01-01 08:26:00|2010-01-01 08:26:00|      0|      312|             20.34|\n",
      "|     17850|   536365|   84406B|CREAM CUPID HEART...|       8|12/1/2010 8:26|     2.75|United Kingdom|2010-01-01 08:26:00|2010-01-01 08:26:00|      0|      312|              22.0|\n",
      "|     17850|   536365|   84029G|KNITTED UNION FLA...|       6|12/1/2010 8:26|     3.39|United Kingdom|2010-01-01 08:26:00|2010-01-01 08:26:00|      0|      312|             20.34|\n",
      "|     17850|   536365|   84029E|RED WOOLLY HOTTIE...|       6|12/1/2010 8:26|     3.39|United Kingdom|2010-01-01 08:26:00|2010-01-01 08:26:00|      0|      312|             20.34|\n",
      "+----------+---------+---------+--------------------+--------+--------------+---------+--------------+-------------------+-------------------+-------+---------+------------------+\n",
      "only showing top 5 rows\n",
      "\n"
     ]
    }
   ],
   "source": [
    "m_val = df_freq.withColumn(\"TotalAmount\", col(\"quantity\") * col(\"unitprice\"))\n",
    "m_val.show(5)"
   ]
  },
  {
   "cell_type": "code",
   "execution_count": 25,
   "id": "cbc0284c",
   "metadata": {},
   "outputs": [
    {
     "name": "stdout",
     "output_type": "stream",
     "text": [
      "+----------+------------------+\n",
      "|customerid|          monetary|\n",
      "+----------+------------------+\n",
      "|     17420| 598.8299999999999|\n",
      "|     16861|            151.65|\n",
      "|     16503|           1421.43|\n",
      "|     15727|           5178.96|\n",
      "|     17389|31300.079999999994|\n",
      "+----------+------------------+\n",
      "only showing top 5 rows\n",
      "\n"
     ]
    }
   ],
   "source": [
    "m_val = m_val.groupBy('customerid').agg(sum(\"TotalAmount\").alias(\"monetary\"))\n",
    "m_val.show(5)"
   ]
  },
  {
   "cell_type": "code",
   "execution_count": 26,
   "id": "9faad5d8",
   "metadata": {},
   "outputs": [
    {
     "name": "stdout",
     "output_type": "stream",
     "text": [
      "+----------+-----------------+---------+---------+--------------------+--------+--------------+---------+--------------+-------------------+-------------------+-------+---------+\n",
      "|customerid|         monetary|InvoiceNo|StockCode|         Description|Quantity|   InvoiceDate|UnitPrice|       Country|               date|          from_date|recency|frequency|\n",
      "+----------+-----------------+---------+---------+--------------------+--------+--------------+---------+--------------+-------------------+-------------------+-------+---------+\n",
      "|     17850|5288.630000000009|   536365|   85123A|WHITE HANGING HEA...|       6|12/1/2010 8:26|     2.55|United Kingdom|2010-01-01 08:26:00|2010-01-01 08:26:00|      0|      312|\n",
      "|     17850|5288.630000000009|   536365|    71053| WHITE METAL LANTERN|       6|12/1/2010 8:26|     3.39|United Kingdom|2010-01-01 08:26:00|2010-01-01 08:26:00|      0|      312|\n",
      "|     17850|5288.630000000009|   536365|   84406B|CREAM CUPID HEART...|       8|12/1/2010 8:26|     2.75|United Kingdom|2010-01-01 08:26:00|2010-01-01 08:26:00|      0|      312|\n",
      "|     17850|5288.630000000009|   536365|   84029G|KNITTED UNION FLA...|       6|12/1/2010 8:26|     3.39|United Kingdom|2010-01-01 08:26:00|2010-01-01 08:26:00|      0|      312|\n",
      "|     17850|5288.630000000009|   536365|   84029E|RED WOOLLY HOTTIE...|       6|12/1/2010 8:26|     3.39|United Kingdom|2010-01-01 08:26:00|2010-01-01 08:26:00|      0|      312|\n",
      "+----------+-----------------+---------+---------+--------------------+--------+--------------+---------+--------------+-------------------+-------------------+-------+---------+\n",
      "only showing top 5 rows\n",
      "\n"
     ]
    }
   ],
   "source": [
    "df_final = m_val.join(df_freq, on='customerid', how='inner')\n",
    "df_final.show(5)"
   ]
  },
  {
   "cell_type": "markdown",
   "id": "059b6c19",
   "metadata": {},
   "source": [
    "Merge this dataframe with the all the other variables:"
   ]
  },
  {
   "cell_type": "code",
   "execution_count": 27,
   "id": "43e3ca14",
   "metadata": {},
   "outputs": [
    {
     "name": "stdout",
     "output_type": "stream",
     "text": [
      "+----------+--------+---------+------------------+\n",
      "|customerid| recency|frequency|          monetary|\n",
      "+----------+--------+---------+------------------+\n",
      "|     17420|    5400|       30| 598.8299999999999|\n",
      "|     16861|  456180|        8|            151.65|\n",
      "|     16503| 1142640|       86|           1421.43|\n",
      "|     15727| 1236060|      302|           5178.96|\n",
      "|     16503| 1321800|       86|           1421.43|\n",
      "|     17389|31826760|      224|31300.079999999994|\n",
      "|     15727|32510400|      302|           5178.96|\n",
      "|     17389|32512920|      224|31300.079999999994|\n",
      "|     15447|32583600|        9|            155.17|\n",
      "|     16503|32587560|       86|           1421.43|\n",
      "+----------+--------+---------+------------------+\n",
      "only showing top 10 rows\n",
      "\n"
     ]
    }
   ],
   "source": [
    "df_final = df_final.select(['customerid', 'recency', 'frequency', 'monetary']).distinct()\n",
    "df_final.show(10)"
   ]
  },
  {
   "cell_type": "code",
   "execution_count": 28,
   "id": "a2f7f2b2",
   "metadata": {},
   "outputs": [
    {
     "data": {
      "text/plain": [
       "22015"
      ]
     },
     "execution_count": 28,
     "metadata": {},
     "output_type": "execute_result"
    }
   ],
   "source": [
    "df_final.count()"
   ]
  },
  {
   "cell_type": "code",
   "execution_count": 29,
   "id": "e83bb39a",
   "metadata": {},
   "outputs": [],
   "source": [
    "# remove zero and negative numbers\n",
    "rfm_data = (df_final.withColumn(\"monetary\", when(col(\"monetary\") <= 0, 1).otherwise(col(\"monetary\"))))"
   ]
  },
  {
   "cell_type": "code",
   "execution_count": 30,
   "id": "8b4a54fd",
   "metadata": {},
   "outputs": [],
   "source": [
    "feat_cols = rfm_data.columns[1:]"
   ]
  },
  {
   "cell_type": "markdown",
   "id": "7c0db4b0",
   "metadata": {},
   "source": [
    "#### Standardization"
   ]
  },
  {
   "cell_type": "markdown",
   "id": "c5d47771",
   "metadata": {},
   "source": [
    "Before building the customer segmentation model, let’s standardize the dataframe to ensure that all the variables are around the same scale:"
   ]
  },
  {
   "cell_type": "code",
   "execution_count": 31,
   "id": "956a464c",
   "metadata": {},
   "outputs": [
    {
     "name": "stdout",
     "output_type": "stream",
     "text": [
      "+----------+-------+---------+-----------------+--------------------+\n",
      "|customerid|recency|frequency|         monetary|            features|\n",
      "+----------+-------+---------+-----------------+--------------------+\n",
      "|     17420|   5400|       30|598.8299999999999|[5400.0,30.0,598....|\n",
      "|     16861| 456180|        8|           151.65|[456180.0,8.0,151...|\n",
      "|     16503|1142640|       86|          1421.43|[1142640.0,86.0,1...|\n",
      "|     15727|1236060|      302|          5178.96|[1236060.0,302.0,...|\n",
      "|     16503|1321800|       86|          1421.43|[1321800.0,86.0,1...|\n",
      "+----------+-------+---------+-----------------+--------------------+\n",
      "only showing top 5 rows\n",
      "\n"
     ]
    }
   ],
   "source": [
    "from pyspark.ml.feature import VectorAssembler\n",
    "from pyspark.ml.feature import StandardScaler\n",
    "\n",
    "# vectorize all features\n",
    "assemble=VectorAssembler(inputCols=feat_cols, outputCol='features')\n",
    "\n",
    "assembled_data=assemble.transform(rfm_data)\n",
    "assembled_data.show(5)\n"
   ]
  },
  {
   "cell_type": "code",
   "execution_count": 32,
   "id": "b48cc5e8",
   "metadata": {},
   "outputs": [
    {
     "name": "stdout",
     "output_type": "stream",
     "text": [
      "+----------+-------+---------+-----------------+--------------------+--------------------+\n",
      "|customerid|recency|frequency|         monetary|            features|        standardized|\n",
      "+----------+-------+---------+-----------------+--------------------+--------------------+\n",
      "|     17420|   5400|       30|598.8299999999999|[5400.0,30.0,598....|[6.31652343448512...|\n",
      "|     16861| 456180|        8|           151.65|[456180.0,8.0,151...|[0.05336058630265...|\n",
      "|     16503|1142640|       86|          1421.43|[1142640.0,86.0,1...|[0.13365763587370...|\n",
      "|     15727|1236060|      302|          5178.96|[1236060.0,302.0,...|[0.14458522141536...|\n",
      "|     16503|1321800|       86|          1421.43|[1321800.0,86.0,1...|[0.15461445695745...|\n",
      "+----------+-------+---------+-----------------+--------------------+--------------------+\n",
      "only showing top 5 rows\n",
      "\n"
     ]
    }
   ],
   "source": [
    "# Standardization \n",
    "scaler = StandardScaler(inputCol='features', outputCol='standardized', withStd=True, withMean=False)\n",
    "data_scale = scaler.fit(assembled_data)\n",
    "scaled_data = data_scale.transform(assembled_data)\n",
    "scaled_data.show(5)"
   ]
  },
  {
   "cell_type": "markdown",
   "id": "8378423e",
   "metadata": {},
   "source": [
    "These are the scaled features that will be fed into the clustering algorithm."
   ]
  },
  {
   "cell_type": "markdown",
   "id": "170ae399",
   "metadata": {},
   "source": [
    "#### Model Building"
   ]
  },
  {
   "cell_type": "markdown",
   "id": "c8fc8d7e",
   "metadata": {},
   "source": [
    "###### Finding number of clusters to build"
   ]
  },
  {
   "cell_type": "markdown",
   "id": "e46c19d0",
   "metadata": {},
   "source": [
    "Now that we have completed all the data analysis and preparation, let’s build the K-Means clustering model.\n",
    "\n",
    "i) Finding the number of clusters to use\n",
    "\n",
    "When building a K-Means clustering model, we first need to determine the number of clusters or groups we want the algorithm to return. If we decide on three clusters, for instance, then we will have three customer segments.\n",
    "\n",
    "The most popular technique used to decide on how many clusters to use in K-Means is called the “elbow-method.”\n",
    "\n",
    "This is done simply running the K-Means algorithm for a wide range of clusters and visualizing the model results for each cluster. The plot will have an inflection point that looks like an elbow, and we just pick the number of clusters at this point.\n",
    "\n",
    "Let’s run the following lines of code to build a K-Means clustering algorithm from 2 to 10 clusters:"
   ]
  },
  {
   "cell_type": "code",
   "execution_count": 33,
   "id": "de4002c2",
   "metadata": {},
   "outputs": [
    {
     "name": "stdout",
     "output_type": "stream",
     "text": [
      "For k = 2, the training cost is 44189.25620382915\n",
      "For k = 3, the training cost is 18722.963888902792\n",
      "For k = 4, the training cost is 11094.373965639756\n",
      "For k = 5, the training cost is 7903.919373716807\n",
      "For k = 6, the training cost is 6533.0639988359235\n",
      "For k = 7, the training cost is 5782.209536720679\n",
      "For k = 8, the training cost is 4348.274567480333\n",
      "For k = 9, the training cost is 3512.8161486967433\n"
     ]
    }
   ],
   "source": [
    "#Importing the model \n",
    "from pyspark.ml.clustering import KMeans \n",
    "from pyspark.ml.evaluation import ClusteringEvaluator\n",
    "\n",
    "costs = np.zeros(10)\n",
    "# Apply k-means with different value of k\n",
    "for k in range(2,10):\n",
    "    kmeans = KMeans().setK(k).setSeed(1).setFeaturesCol('standardized')\n",
    "    model = kmeans.fit(scaled_data)\n",
    "    costs[k] = model.summary.trainingCost\n",
    "    # Print the current value of k and its corresponding cost\n",
    "    print(f'For k = {k}, the training cost is {costs[k]}')\n",
    "    "
   ]
  },
  {
   "cell_type": "markdown",
   "id": "607d7aab",
   "metadata": {},
   "source": [
    "With the codes above, we have successfully built and evaluated a K-Means clustering model with 2 to 10 clusters. The results have been placed in an array, and can now be visualized in a line chart."
   ]
  },
  {
   "cell_type": "code",
   "execution_count": 34,
   "id": "e4664e3e",
   "metadata": {},
   "outputs": [
    {
     "data": {
      "text/plain": [
       "Text(0.5, 1.0, 'Elbow Curve')"
      ]
     },
     "execution_count": 34,
     "metadata": {},
     "output_type": "execute_result"
    },
    {
     "data": {
      "image/png": "[encoded data removed]",
      "text/plain": [
       "<Figure size 1200x800 with 1 Axes>"
      ]
     },
     "metadata": {},
     "output_type": "display_data"
    }
   ],
   "source": [
    "#Visualizing the silhouette scores in a plot \n",
    "import matplotlib.pyplot as plt \n",
    "  \n",
    "# Plot the cost\n",
    "df_cost = pd.DataFrame(costs[2:])\n",
    "df_cost.columns = [\"cost\"]\n",
    "new_col = [2,3,4,5,6,7,8, 9]\n",
    "df_cost.insert(0, 'cluster', new_col)\n",
    "\n",
    "fig, ax = plt.subplots(1, 1, figsize =(12, 8))\n",
    "ax.plot(df_cost.cluster, df_cost.cost)\n",
    "ax.set_xlabel('Number of Clusters')\n",
    "ax.set_ylabel('Score')\n",
    "ax.set_title('Elbow Curve')"
   ]
  },
  {
   "cell_type": "markdown",
   "id": "0cb6d3a9",
   "metadata": {},
   "source": [
    "ii) Building the K-Means Clustering Model"
   ]
  },
  {
   "cell_type": "markdown",
   "id": "1ddfb1b9",
   "metadata": {},
   "source": [
    "From the plot above, we can see that there is an inflection point that looks like an elbow at four. Due to this, we will proceed to build the K-Means algorithm with four clusters:"
   ]
  },
  {
   "cell_type": "code",
   "execution_count": 43,
   "id": "fe874838",
   "metadata": {},
   "outputs": [],
   "source": [
    "KMeans_algo=KMeans(featuresCol='standardized', k=4)\n",
    "KMeans_fit=KMeans_algo.fit(scaled_data)"
   ]
  },
  {
   "cell_type": "code",
   "execution_count": 44,
   "id": "b6842e64",
   "metadata": {},
   "outputs": [
    {
     "name": "stdout",
     "output_type": "stream",
     "text": [
      "+----------+-------+---------+-----------------+--------------------+--------------------+----------+\n",
      "|customerid|recency|frequency|         monetary|            features|        standardized|prediction|\n",
      "+----------+-------+---------+-----------------+--------------------+--------------------+----------+\n",
      "|     17420|   5400|       30|598.8299999999999|[5400.0,30.0,598....|[6.31652343448512...|         1|\n",
      "|     16861| 456180|        8|           151.65|[456180.0,8.0,151...|[0.05336058630265...|         1|\n",
      "|     16503|1142640|       86|          1421.43|[1142640.0,86.0,1...|[0.13365763587370...|         1|\n",
      "|     15727|1236060|      302|          5178.96|[1236060.0,302.0,...|[0.14458522141536...|         1|\n",
      "|     16503|1321800|       86|          1421.43|[1321800.0,86.0,1...|[0.15461445695745...|         1|\n",
      "+----------+-------+---------+-----------------+--------------------+--------------------+----------+\n",
      "only showing top 5 rows\n",
      "\n"
     ]
    }
   ],
   "source": [
    "prediction=KMeans_fit.transform(scaled_data)\n",
    "\n",
    "prediction.show(5)"
   ]
  },
  {
   "cell_type": "markdown",
   "id": "55f8c893",
   "metadata": {},
   "source": [
    "#### K Means Clustering"
   ]
  },
  {
   "cell_type": "code",
   "execution_count": 52,
   "id": "074a1d1a",
   "metadata": {},
   "outputs": [
    {
     "data": {
      "image/png": "[encoded data removed]",
      "text/plain": [
       "<Figure size 640x480 with 1 Axes>"
      ]
     },
     "metadata": {},
     "output_type": "display_data"
    },
    {
     "data": {
      "image/png": "[encoded data removed]",
      "text/plain": [
       "<Figure size 640x480 with 1 Axes>"
      ]
     },
     "metadata": {},
     "output_type": "display_data"
    },
    {
     "data": {
      "image/png": "[encoded data removed]",
      "text/plain": [
       "<Figure size 640x480 with 1 Axes>"
      ]
     },
     "metadata": {},
     "output_type": "display_data"
    }
   ],
   "source": [
    "import matplotlib.pyplot as plt\n",
    "import seaborn as sns\n",
    "\n",
    "\n",
    "pred_viz = prediction.select('recency','frequency','monetary','prediction')\n",
    "pred_viz = pred_viz.toPandas()\n",
    "avg_df = pred_viz.groupby(['prediction'], as_index=False).mean()\n",
    "\n",
    "rfm_list = ['recency','frequency','monetary']\n",
    "\n",
    "\n",
    "for i in rfm_list:\n",
    "    sns.barplot(x='prediction',y=str(i),data=avg_df)\n",
    "    plt.show()"
   ]
  },
  {
   "cell_type": "markdown",
   "id": "e4cbf270",
   "metadata": {},
   "source": [
    "Here is an overview of characteristics displayed by customers in each cluster:"
   ]
  },
  {
   "cell_type": "markdown",
   "id": "76534012",
   "metadata": {},
   "source": [
    "**Cluster 0:** This cluster is characterized by high recency and relatively lower frequency and lower monetary values. So these are recent customers who can potentially become long-term customers.<br>\n",
    "**Cluster 1:** Customers in this cluster tend to spend less. They don’t buy often, and haven't made a purchase recently either. These are likely inactive or low potential customers.<br>\n",
    "**Cluster 2:** Customers in this cluster tend to high recency and highest monetary. However, they don’t spend much on the platform, which might mean that they tend to select cheaper items in each purchase.<br>\n",
    "**Cluster 3:** Of all the four clusters, this cluster has the highest recency, moderate frequency, and highest monetary values. Let’s call the customers in this cluster champions (or power shoppers)."
   ]
  },
  {
   "cell_type": "code",
   "execution_count": 53,
   "id": "bf097e9c",
   "metadata": {},
   "outputs": [],
   "source": [
    "spark.stop()"
   ]
  }
 ],
 "metadata": {
  "kernelspec": {
   "display_name": "Python 3 (ipykernel)",
   "language": "python",
   "name": "python3"
  },
  "language_info": {
   "codemirror_mode": {
    "name": "ipython",
    "version": 3
   },
   "file_extension": ".py",
   "mimetype": "text/x-python",
   "name": "python",
   "nbconvert_exporter": "python",
   "pygments_lexer": "ipython3",
   "version": "3.11.5"
  }
 },
 "nbformat": 4,
 "nbformat_minor": 5
}
